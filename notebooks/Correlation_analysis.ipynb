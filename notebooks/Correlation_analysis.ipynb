{
 "cells": [
  {
   "cell_type": "code",
   "execution_count": 22,
   "metadata": {},
   "outputs": [],
   "source": [
    "import pandas as pd\n",
    "import numpy as np\n",
    "from datetime import datetime, timedelta\n",
    "import os\n",
    "from textblob import TextBlob\n",
    "import matplotlib.pyplot as plt\n",
    "import seaborn as sns"
   ]
  },
  {
   "cell_type": "code",
   "execution_count": 24,
   "metadata": {},
   "outputs": [],
   "source": [
    "# Load news data\n",
    "def load_news_data(file_path):\n",
    "    news_data = pd.read_csv(file_path)\n",
    "    # Use a more flexible date parser\n",
    "    news_data['date'] = pd.to_datetime(news_data['date'], format='mixed', utc=True)\n",
    "    # Convert to UTC-4 timezone\n",
    "    news_data['date'] = news_data['date'].dt.tz_convert('Etc/GMT+4')\n",
    "    return news_data"
   ]
  },
  {
   "cell_type": "code",
   "execution_count": 25,
   "metadata": {},
   "outputs": [],
   "source": [
    "# Load stock data\n",
    "def load_stock_data(folder_path):\n",
    "    stock_data = {}\n",
    "    for file in os.listdir(folder_path):\n",
    "        if file.endswith('.csv'):\n",
    "            stock_symbol = file.split('.')[0]\n",
    "            file_path = os.path.join(folder_path, file)\n",
    "            df = pd.read_csv(file_path)\n",
    "            # Use a more flexible date parser\n",
    "            df['Date'] = pd.to_datetime(df['Date'], format='mixed')\n",
    "            df.set_index('Date', inplace=True)\n",
    "            stock_data[stock_symbol] = df\n",
    "    return stock_data"
   ]
  },
  {
   "cell_type": "code",
   "execution_count": 26,
   "metadata": {},
   "outputs": [],
   "source": [
    "# Perform sentiment analysis\n",
    "def analyze_sentiment(headline):\n",
    "    return TextBlob(headline).sentiment.polarity"
   ]
  },
  {
   "cell_type": "code",
   "execution_count": 27,
   "metadata": {},
   "outputs": [],
   "source": [
    "# Calculate daily stock returns\n",
    "def calculate_daily_returns(stock_data):\n",
    "    for symbol, df in stock_data.items():\n",
    "        stock_data[symbol]['Daily_Return'] = df['Close'].pct_change()\n",
    "    return stock_data"
   ]
  },
  {
   "cell_type": "code",
   "execution_count": 28,
   "metadata": {},
   "outputs": [],
   "source": [
    "# Align news data with stock data\n",
    "def align_data(news_data, stock_data):\n",
    "    aligned_data = {}\n",
    "    for symbol in stock_data.keys():\n",
    "        symbol_news = news_data[news_data['stock'] == symbol]\n",
    "        symbol_stock = stock_data[symbol]\n",
    "        \n",
    "        # Convert date index to date only (no time) for alignment\n",
    "        symbol_stock.index = symbol_stock.index.date\n",
    "        symbol_news['date'] = symbol_news['date'].dt.date\n",
    "        \n",
    "        aligned_df = pd.DataFrame(index=symbol_stock.index)\n",
    "        aligned_df['Daily_Return'] = symbol_stock['Daily_Return']\n",
    "        \n",
    "        daily_sentiment = symbol_news.groupby('date')['sentiment'].mean()\n",
    "        aligned_df['Sentiment'] = daily_sentiment\n",
    "        \n",
    "        aligned_data[symbol] = aligned_df.dropna()\n",
    "    \n",
    "    return aligned_data"
   ]
  },
  {
   "cell_type": "code",
   "execution_count": 29,
   "metadata": {},
   "outputs": [],
   "source": [
    "# Analyze correlation\n",
    "def analyze_correlation(aligned_data):\n",
    "    correlations = {}\n",
    "    for symbol, df in aligned_data.items():\n",
    "        correlation = df['Daily_Return'].corr(df['Sentiment'])\n",
    "        correlations[symbol] = correlation\n",
    "    return correlations"
   ]
  },
  {
   "cell_type": "code",
   "execution_count": 30,
   "metadata": {},
   "outputs": [],
   "source": [
    "# Visualize correlation\n",
    "def visualize_correlation(correlations):\n",
    "    plt.figure(figsize=(10, 6))\n",
    "    sns.barplot(x=list(correlations.keys()), y=list(correlations.values()))\n",
    "    plt.title('Correlation between News Sentiment and Stock Returns')\n",
    "    plt.xlabel('Stock Symbol')\n",
    "    plt.ylabel('Correlation Coefficient')\n",
    "    plt.show()"
   ]
  },
  {
   "cell_type": "code",
   "execution_count": 23,
   "metadata": {},
   "outputs": [],
   "source": [
    "def main():\n",
    "    # Load data\n",
    "    news_data = load_news_data('/home/kali/Desktop/git/Financial-News-and-Stock-Price-Integration/Data/raw_analyst_ratings.csv')\n",
    "    stock_data = load_stock_data('/home/kali/Desktop/git/Financial-News-and-Stock-Price-Integration/Data/yfinance_data')\n",
    "\n",
    "    # Perform sentiment analysis\n",
    "    news_data['sentiment'] = news_data['headline'].apply(analyze_sentiment)\n",
    "    \n",
    "    # Calculate daily stock returns\n",
    "    stock_data = calculate_daily_returns(stock_data)\n",
    "    \n",
    "    # Align news and stock data\n",
    "    aligned_data = align_data(news_data, stock_data)\n",
    "    \n",
    "    # Analyze correlation\n",
    "    correlations = analyze_correlation(aligned_data)\n",
    "    \n",
    "    # Print correlations\n",
    "    for symbol, correlation in correlations.items():\n",
    "        print(f\"Correlation for {symbol}: {correlation:.4f}\")\n",
    "    \n",
    "    # Visualize correlation\n",
    "    visualize_correlation(correlations)\n",
    "\n",
    "if __name__ == \"__main__\":\n",
    "    main()"
   ]
  }
 ],
 "metadata": {
  "kernelspec": {
   "display_name": ".venv",
   "language": "python",
   "name": "python3"
  },
  "language_info": {
   "codemirror_mode": {
    "name": "ipython",
    "version": 3
   },
   "file_extension": ".py",
   "mimetype": "text/x-python",
   "name": "python",
   "nbconvert_exporter": "python",
   "pygments_lexer": "ipython3",
   "version": "3.11.9"
  }
 },
 "nbformat": 4,
 "nbformat_minor": 2
}
